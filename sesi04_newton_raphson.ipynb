{
  "nbformat": 4,
  "nbformat_minor": 0,
  "metadata": {
    "colab": {
      "provenance": []
    },
    "kernelspec": {
      "name": "python3",
      "display_name": "Python 3"
    },
    "language_info": {
      "name": "python"
    }
  },
  "cells": [
    {
      "cell_type": "code",
      "execution_count": null,
      "metadata": {
        "colab": {
          "base_uri": "https://localhost:8080/"
        },
        "id": "AIzRyj0t3ce-",
        "outputId": "ae657c56-81bc-44d9-eca8-158448987c5e"
      },
      "outputs": [
        {
          "output_type": "stream",
          "name": "stdout",
          "text": [
            "newton_raphson =  1.4142857142857144\n",
            "sqrt(2) =  1.4142135623730951\n"
          ]
        }
      ],
      "source": [
        "import numpy as np\n",
        "f = lambda x: x**2 - 2\n",
        "f_prime = lambda x: 2*x\n",
        "newton_raphson = 1.4 - (f(1.4)) / (f_prime(1.4))\n",
        "\n",
        "print(\"newton_raphson = \", newton_raphson)\n",
        "print(\"sqrt(2) = \",np.sqrt(2))\n",
        "\n",
        "def my_newton(f,df,x0,tol):\n",
        "  # output is an estimation of the root of f using the newton raphson method\n",
        "  # recursive method implementation\n",
        "\n",
        "  if abs(f(x0)) < tol:\n",
        "    return x0\n",
        "  else:\n",
        "    return my_newton(f,df,x0 - f(x0) / df(x0),tol)\n"
      ]
    },
    {
      "cell_type": "markdown",
      "source": [
        "Quiz 1 newton raphson\n",
        "f(x) = x^3 - 3x^2 + 2x\n",
        "x0 = 1.5\n",
        "tol = 0.001\n"
      ],
      "metadata": {
        "id": "SiWZiHJB70ta"
      }
    },
    {
      "cell_type": "code",
      "source": [
        "def f(x):\n",
        "    return x**3 - 3*x**2 + 2*x\n",
        "\n",
        "def f_prime(x):\n",
        "    return 3*x**2 - 6*x + 2\n",
        "\n",
        "def newton_raphson(x0, tol):\n",
        "    iterasi = 0\n",
        "    while True:\n",
        "        x1 = x0 - f(x0) / f_prime(x0)\n",
        "        iterasi += 1\n",
        "        if abs(x1 - x0) < tol:\n",
        "            return x1, iterasi\n",
        "        x0 = x1\n",
        "\n",
        "# Menentukan tebakan awal dan toleransi\n",
        "x0 = 1.5\n",
        "tol = 0.001\n",
        "\n",
        "# Menjalankan metode Newton-Raphson\n",
        "akar, iterasi = newton_raphson(x0, tol)\n",
        "print(\"Akar dari fungsi adalah:\", akar)\n",
        "print(\"Iterasi yang diperlukan:\", iterasi)\n"
      ],
      "metadata": {
        "id": "6cwDtgAF8s3x",
        "colab": {
          "base_uri": "https://localhost:8080/"
        },
        "outputId": "e4539267-a225-4cb3-ea02-b6905cde5302"
      },
      "execution_count": null,
      "outputs": [
        {
          "output_type": "stream",
          "name": "stdout",
          "text": [
            "Akar dari fungsi adalah: 0.0\n",
            "Iterasi yang diperlukan: 2\n"
          ]
        }
      ]
    },
    {
      "cell_type": "markdown",
      "source": [
        "Quiz 2\n",
        "f(x) e^x - 2x\n"
      ],
      "metadata": {
        "id": "i3xKU7aUAUop"
      }
    },
    {
      "cell_type": "code",
      "source": [
        "import math\n",
        "\n",
        "def f(x):\n",
        "    return math.exp(x) - 2*x\n",
        "\n",
        "def f_prime(x):\n",
        "    return math.exp(x) - 2\n",
        "\n",
        "def newton_raphson(x0, tol):\n",
        "    iterasi = 0\n",
        "    while True:\n",
        "        x1 = x0 - f(x0) / f_prime(x0)\n",
        "        iterasi += 1\n",
        "        if abs(x1 - x0) < tol:\n",
        "            return x1, iterasi\n",
        "        x0 = x1\n",
        "\n",
        "# Menentukan tebakan awal dan toleransi\n",
        "x0 = 1.5\n",
        "tol = 0.001\n",
        "\n",
        "# Menjalankan metode Newton-Raphson\n",
        "akar, iterasi = newton_raphson(x0, tol)\n",
        "print(\"Akar dari fungsi adalah:\", akar)\n",
        "print(\"Iterasi yang diperlukan:\", iterasi)\n"
      ],
      "metadata": {
        "id": "xXLnKgigip-e"
      },
      "execution_count": null,
      "outputs": []
    }
  ]
}