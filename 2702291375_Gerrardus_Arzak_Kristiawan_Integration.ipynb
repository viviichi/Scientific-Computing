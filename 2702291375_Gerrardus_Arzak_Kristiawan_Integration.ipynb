{
  "nbformat": 4,
  "nbformat_minor": 0,
  "metadata": {
    "colab": {
      "provenance": []
    },
    "kernelspec": {
      "name": "python3",
      "display_name": "Python 3"
    },
    "language_info": {
      "name": "python"
    }
  },
  "cells": [
    {
      "cell_type": "markdown",
      "source": [
        "Riemann Integral"
      ],
      "metadata": {
        "id": "walid4QdBwAG"
      }
    },
    {
      "cell_type": "code",
      "execution_count": 8,
      "metadata": {
        "colab": {
          "base_uri": "https://localhost:8080/"
        },
        "id": "IlNKthRE-5Z4",
        "outputId": "e9fd527d-bbab-4c21-a8ab-dc1f4ee33f11"
      },
      "outputs": [
        {
          "output_type": "stream",
          "name": "stdout",
          "text": [
            "1.9835235375094546\n",
            "0.01647646249054535\n",
            "1.9835235375094546\n",
            "0.01647646249054535\n",
            "2.0082484079079745\n",
            "-0.008248407907974542\n"
          ]
        }
      ],
      "source": [
        "import numpy as np\n",
        "a = 0\n",
        "b = np.pi\n",
        "n = 11\n",
        "h = (b - a) / (n - 1)\n",
        "x = np.linspace(a, b, n)\n",
        "f = np.sin(x)\n",
        "I_riemannL = h * sum(f[:n-1:])\n",
        "err_riemannL = 2 - I_riemannL\n",
        "I_riemannR = h * sum(f[1::])\n",
        "err_riemannR = 2 - I_riemannR\n",
        "I_mid = h * sum(np.sin ((x[:n-1] \\\n",
        "        + x[1:])/2))\n",
        "err_mid = 2 - I_mid\n",
        "print (I_riemannL)\n",
        "print (err_riemannL)\n",
        "print (I_riemannR)\n",
        "print (err_riemannR)\n",
        "print (I_mid)\n",
        "print (err_mid)"
      ]
    },
    {
      "cell_type": "markdown",
      "source": [
        "Trapezoid Rule"
      ],
      "metadata": {
        "id": "3esmDqW2B0Cc"
      }
    },
    {
      "cell_type": "code",
      "source": [
        "import numpy as np\n",
        "from scipy.integrate import trapz\n",
        "\n",
        "a = 0\n",
        "b = np.pi\n",
        "n = 11\n",
        "h = (b-a) / (n-1)\n",
        "x = np.linspace(a, b, n)\n",
        "f = np.sin(x)\n",
        "\n",
        "I_trapz = trapz(f,x)\n",
        "I_trap = (h/2)*(f[0]+ 2 * sum(f[1:n-1]) + f[n-1])\n",
        "\n",
        "print (I_trapz)\n",
        "print (I_trap)"
      ],
      "metadata": {
        "id": "Gl6A_vmpBiZX",
        "colab": {
          "base_uri": "https://localhost:8080/"
        },
        "outputId": "4ffb3126-1ac8-43d8-ec64-e90b8dd833f4"
      },
      "execution_count": 14,
      "outputs": [
        {
          "output_type": "stream",
          "name": "stdout",
          "text": [
            "1.9835235375094544\n",
            "1.9835235375094546\n"
          ]
        }
      ]
    },
    {
      "cell_type": "markdown",
      "source": [
        "Using integrate.quad\n"
      ],
      "metadata": {
        "id": "AiglFw9QD3Bo"
      }
    },
    {
      "cell_type": "code",
      "source": [
        "from scipy.integrate import quad\n",
        "\n",
        "I_quad, est_err_quad = \\\n",
        "          quad(np.sin, 0, np.pi)\n",
        "print(I_quad)\n",
        "err_quad = 2 - I_quad\n",
        "print(est_err_quad, err_quad)"
      ],
      "metadata": {
        "colab": {
          "base_uri": "https://localhost:8080/"
        },
        "id": "ovpuKzEFD7kY",
        "outputId": "daa90915-7b57-4530-97a9-604e399b5ffd"
      },
      "execution_count": 15,
      "outputs": [
        {
          "output_type": "stream",
          "name": "stdout",
          "text": [
            "2.0\n",
            "2.220446049250313e-14 0.0\n"
          ]
        }
      ]
    },
    {
      "cell_type": "markdown",
      "source": [
        "Quiz\n"
      ],
      "metadata": {
        "id": "MteZlxUBKibC"
      }
    },
    {
      "cell_type": "code",
      "source": [],
      "metadata": {
        "id": "o068YsUeKnPp"
      },
      "execution_count": null,
      "outputs": []
    },
    {
      "cell_type": "code",
      "source": [
        "import numpy as np\n",
        "from scipy.integrate import trapz\n",
        "\n",
        "a = 0\n",
        "b = np.pi\n",
        "n = 9\n",
        "h = (b-a) / (n-1)\n",
        "x = np.linspace(a, b, n)\n",
        "f = np.sin(x)\n",
        "\n",
        "I_trapz = trapz(f,x)\n",
        "I_trap = (h/2)*(f[0]+ 2 * sum(f[1:n-1]) + f[n-1])\n",
        "\n",
        "print (I_trapz)\n",
        "print (I_trap)"
      ],
      "metadata": {
        "colab": {
          "base_uri": "https://localhost:8080/"
        },
        "outputId": "5e4c812b-d32a-4ff5-a37f-9fbfc6832823",
        "id": "jlANAhn9K30y"
      },
      "execution_count": 1,
      "outputs": [
        {
          "output_type": "stream",
          "name": "stdout",
          "text": [
            "1.9742316019455508\n",
            "1.9742316019455508\n"
          ]
        }
      ]
    },
    {
      "cell_type": "code",
      "source": [],
      "metadata": {
        "id": "poqmZZ8rLIhJ"
      },
      "execution_count": null,
      "outputs": []
    },
    {
      "cell_type": "code",
      "source": [
        "import numpy as np\n",
        "from scipy.integrate import trapz\n",
        "\n",
        "a = 0\n",
        "b = np.pi\n",
        "n = 17\n",
        "h = (b-a) / (n-1)\n",
        "x = np.linspace(a, b, n)\n",
        "f = np.sin(x)\n",
        "\n",
        "I_trapz = trapz(f,x)\n",
        "I_trap = (h/2)*(f[0]+ 2 * sum(f[1:n-1]) + f[n-1])\n",
        "\n",
        "print (I_trapz)\n",
        "print (I_trap)"
      ],
      "metadata": {
        "colab": {
          "base_uri": "https://localhost:8080/"
        },
        "outputId": "e0072c3f-e191-427e-be60-7ed32f86ac78",
        "id": "t4fRoIKLLJXL"
      },
      "execution_count": 2,
      "outputs": [
        {
          "output_type": "stream",
          "name": "stdout",
          "text": [
            "1.9935703437723393\n",
            "1.9935703437723395\n"
          ]
        }
      ]
    }
  ]
}