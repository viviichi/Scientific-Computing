{
  "nbformat": 4,
  "nbformat_minor": 0,
  "metadata": {
    "colab": {
      "provenance": []
    },
    "kernelspec": {
      "name": "python3",
      "display_name": "Python 3"
    },
    "language_info": {
      "name": "python"
    }
  },
  "cells": [
    {
      "cell_type": "markdown",
      "source": [],
      "metadata": {
        "id": "JmWUdQl9L63o"
      }
    },
    {
      "cell_type": "code",
      "source": [],
      "metadata": {
        "id": "D_wcXLCCPmj1"
      },
      "execution_count": null,
      "outputs": []
    },
    {
      "cell_type": "code",
      "source": [
        "import numpy as np\n",
        "\n",
        "x = np.array([1,4,3])\n",
        "x"
      ],
      "metadata": {
        "colab": {
          "base_uri": "https://localhost:8080/"
        },
        "id": "S8njyEexOsYt",
        "outputId": "99bda94f-1b27-479a-d03d-13fbcbccbfa2"
      },
      "execution_count": null,
      "outputs": [
        {
          "output_type": "execute_result",
          "data": {
            "text/plain": [
              "array([1, 4, 3])"
            ]
          },
          "metadata": {},
          "execution_count": 1
        }
      ]
    },
    {
      "cell_type": "code",
      "source": [
        "import numpy as np\n",
        "\n",
        "z = np.array([[1,4,3], [9,2,7], [3,5,8]])\n",
        "z"
      ],
      "metadata": {
        "colab": {
          "base_uri": "https://localhost:8080/"
        },
        "id": "fgB8mzrbPQ90",
        "outputId": "7b3a015c-922f-442e-c0ac-3a80703a1dcb"
      },
      "execution_count": null,
      "outputs": [
        {
          "output_type": "execute_result",
          "data": {
            "text/plain": [
              "array([[1, 4, 3],\n",
              "       [9, 2, 7],\n",
              "       [3, 5, 8]])"
            ]
          },
          "metadata": {},
          "execution_count": 7
        }
      ]
    },
    {
      "cell_type": "code",
      "source": [
        "def aez(d,g,v):\n",
        "  \"\"\"\n",
        "  function to multiply 3 num\n",
        "  input: 3 numbers d, g, v\n",
        "  output : hasil d, g, and v\n",
        "  author : arz\n",
        "  date :\n",
        "  \"\"\"\n",
        "  # komen\n",
        "  out = d*g*v\n",
        "\n",
        "  return out"
      ],
      "metadata": {
        "id": "DI9WrdvmRAbz"
      },
      "execution_count": null,
      "outputs": []
    },
    {
      "cell_type": "code",
      "source": [
        "aez(2,3,4)"
      ],
      "metadata": {
        "colab": {
          "base_uri": "https://localhost:8080/"
        },
        "id": "Pq1G-HH2TKpJ",
        "outputId": "4a50c082-020e-48ef-862d-ccdced889057"
      },
      "execution_count": null,
      "outputs": [
        {
          "output_type": "execute_result",
          "data": {
            "text/plain": [
              "24"
            ]
          },
          "metadata": {},
          "execution_count": 20
        }
      ]
    },
    {
      "cell_type": "code",
      "source": [
        "help(aez)"
      ],
      "metadata": {
        "colab": {
          "base_uri": "https://localhost:8080/"
        },
        "id": "RnuFUAmGSLra",
        "outputId": "85f0aca7-0c90-4437-d711-577b9afb6d0f"
      },
      "execution_count": null,
      "outputs": [
        {
          "output_type": "stream",
          "name": "stdout",
          "text": [
            "Help on function aez in module __main__:\n",
            "\n",
            "aez(d, g, v)\n",
            "    function to multiply 3 num\n",
            "    input: 3 numbers d, g, v\n",
            "    output : hasil d, g, and v\n",
            "    author : arz\n",
            "    date :\n",
            "\n"
          ]
        }
      ]
    },
    {
      "cell_type": "code",
      "source": [
        "def my_thermo_stat(temp, desired_temp):\n",
        "    if temp < desired_temp - 5:\n",
        "       status = 'heat'\n",
        "    elif temp > desired_temp + 5:\n",
        "        status = 'AC'\n",
        "    else:\n",
        "      status = 'off'\n",
        "\n",
        "    return status"
      ],
      "metadata": {
        "id": "PXxscYHJTkoo"
      },
      "execution_count": null,
      "outputs": []
    },
    {
      "cell_type": "code",
      "source": [
        "status = my_thermo_stat(75,65)\n",
        "print(status)"
      ],
      "metadata": {
        "colab": {
          "base_uri": "https://localhost:8080/"
        },
        "id": "vXbWYr6qUd4p",
        "outputId": "2ba872b3-e537-43e8-b280-73bc609b411d"
      },
      "execution_count": null,
      "outputs": [
        {
          "output_type": "stream",
          "name": "stdout",
          "text": [
            "AC\n"
          ]
        }
      ]
    },
    {
      "cell_type": "code",
      "source": [
        "x = 3\n",
        "if x > 1 and x < 2:\n",
        "  y = 2\n",
        "elif x < 4 and x > 2:\n",
        "  y = 4\n",
        "print (y)\n"
      ],
      "metadata": {
        "colab": {
          "base_uri": "https://localhost:8080/"
        },
        "id": "EUCZz0cPWI_0",
        "outputId": "55238256-e550-4ded-87c4-80881431d92e"
      },
      "execution_count": null,
      "outputs": [
        {
          "output_type": "stream",
          "name": "stdout",
          "text": [
            "4\n"
          ]
        }
      ]
    },
    {
      "cell_type": "code",
      "source": [
        "k = 3\n",
        "if 1 < k < 2:\n",
        "  z = 2\n",
        "elif 2 < k < 4:\n",
        "  z = 4\n",
        "else:\n",
        "  z = 0\n",
        "print (z)"
      ],
      "metadata": {
        "colab": {
          "base_uri": "https://localhost:8080/"
        },
        "id": "d9pqCgw1XTlC",
        "outputId": "0892f8e8-8a7a-484d-d5a1-98faf824068c"
      },
      "execution_count": null,
      "outputs": [
        {
          "output_type": "stream",
          "name": "stdout",
          "text": [
            "4\n"
          ]
        }
      ]
    }
  ]
}